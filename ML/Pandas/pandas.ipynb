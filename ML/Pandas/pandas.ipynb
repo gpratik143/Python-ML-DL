{
 "cells": [
  {
   "cell_type": "code",
   "execution_count": 2,
   "id": "ef45f82b",
   "metadata": {},
   "outputs": [],
   "source": [
    "import pandas as pd"
   ]
  },
  {
   "cell_type": "code",
   "execution_count": 5,
   "id": "cf0f98ef",
   "metadata": {},
   "outputs": [],
   "source": [
    "df={\n",
    "    \"name\"==[\"pratik\",\"Ram\",\"Krishna\"],\n",
    "    \"age\"==[22,20,19],\n",
    "}"
   ]
  },
  {
   "cell_type": "code",
   "execution_count": 6,
   "id": "023c4b8d",
   "metadata": {},
   "outputs": [],
   "source": [
    "data1=[\n",
    "    [\"Pratik\",21,\"B.Tech\"]\n",
    "]"
   ]
  },
  {
   "cell_type": "code",
   "execution_count": 9,
   "id": "c8096538",
   "metadata": {},
   "outputs": [
    {
     "ename": "NameError",
     "evalue": "name 'dataframe' is not defined",
     "output_type": "error",
     "traceback": [
      "\u001b[31m---------------------------------------------------------------------------\u001b[39m",
      "\u001b[31mNameError\u001b[39m                                 Traceback (most recent call last)",
      "\u001b[36mCell\u001b[39m\u001b[36m \u001b[39m\u001b[32mIn[9]\u001b[39m\u001b[32m, line 1\u001b[39m\n\u001b[32m----> \u001b[39m\u001b[32m1\u001b[39m \u001b[43mdataframe\u001b[49m(data1)\n",
      "\u001b[31mNameError\u001b[39m: name 'dataframe' is not defined"
     ]
    }
   ],
   "source": [
    "dataframe(data1)"
   ]
  },
  {
   "cell_type": "code",
   "execution_count": null,
   "id": "cd7f2270",
   "metadata": {},
   "outputs": [],
   "source": []
  }
 ],
 "metadata": {
  "kernelspec": {
   "display_name": "Python 3",
   "language": "python",
   "name": "python3"
  },
  "language_info": {
   "codemirror_mode": {
    "name": "ipython",
    "version": 3
   },
   "file_extension": ".py",
   "mimetype": "text/x-python",
   "name": "python",
   "nbconvert_exporter": "python",
   "pygments_lexer": "ipython3",
   "version": "3.13.5"
  }
 },
 "nbformat": 4,
 "nbformat_minor": 5
}
